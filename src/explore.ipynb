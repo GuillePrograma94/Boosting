{
    "cells": [
        {
            "cell_type": "markdown",
            "metadata": {},
            "source": [
                "# Explore here"
            ]
        },
        {
            "cell_type": "code",
            "execution_count": 27,
            "metadata": {},
            "outputs": [],
            "source": [
                "import os\n",
                "import pandas as pd\n",
                "import numpy as np\n",
                "from sklearn.metrics import *\n",
                "from xgboost import XGBClassifier\n",
                "from sklearn.tree import DecisionTreeClassifier\n",
                "from sklearn.datasets import load_breast_cancer\n",
                "from sklearn.model_selection import train_test_split, RandomizedSearchCV, GridSearchCV\n",
                "from scipy.stats import uniform, randint\n",
                "import time\n",
                "import joblib\n"
            ]
        },
        {
            "cell_type": "code",
            "execution_count": 2,
            "metadata": {},
            "outputs": [],
            "source": [
                "# We load the data we previously cleaned.\n",
                "test_data = pd.read_csv(r\"D:\\01A-TRABAJO\\PYTHON\\DATASCIENCE\\EJERCICIOS\\DECISIONTREE\\DecisionTreeProject\\data\\processed\\clean_test.csv\")\n",
                "train_data = pd.read_csv(r\"D:\\01A-TRABAJO\\PYTHON\\DATASCIENCE\\EJERCICIOS\\DECISIONTREE\\DecisionTreeProject\\data\\processed\\clean_train.csv\")\n"
            ]
        },
        {
            "cell_type": "code",
            "execution_count": 3,
            "metadata": {},
            "outputs": [
                {
                    "data": {
                        "text/html": [
                            "<div>\n",
                            "<style scoped>\n",
                            "    .dataframe tbody tr th:only-of-type {\n",
                            "        vertical-align: middle;\n",
                            "    }\n",
                            "\n",
                            "    .dataframe tbody tr th {\n",
                            "        vertical-align: top;\n",
                            "    }\n",
                            "\n",
                            "    .dataframe thead th {\n",
                            "        text-align: right;\n",
                            "    }\n",
                            "</style>\n",
                            "<table border=\"1\" class=\"dataframe\">\n",
                            "  <thead>\n",
                            "    <tr style=\"text-align: right;\">\n",
                            "      <th></th>\n",
                            "      <th>Pregnancies</th>\n",
                            "      <th>Glucose</th>\n",
                            "      <th>BloodPressure</th>\n",
                            "      <th>Insulin</th>\n",
                            "      <th>BMI</th>\n",
                            "      <th>DiabetesPedigreeFunction</th>\n",
                            "      <th>Age</th>\n",
                            "      <th>Outcome</th>\n",
                            "    </tr>\n",
                            "  </thead>\n",
                            "  <tbody>\n",
                            "    <tr>\n",
                            "      <th>0</th>\n",
                            "      <td>6.0</td>\n",
                            "      <td>98.0</td>\n",
                            "      <td>58.0</td>\n",
                            "      <td>190.0</td>\n",
                            "      <td>58.0</td>\n",
                            "      <td>0.430</td>\n",
                            "      <td>43.0</td>\n",
                            "      <td>0</td>\n",
                            "    </tr>\n",
                            "    <tr>\n",
                            "      <th>1</th>\n",
                            "      <td>2.0</td>\n",
                            "      <td>112.0</td>\n",
                            "      <td>75.0</td>\n",
                            "      <td>0.0</td>\n",
                            "      <td>75.0</td>\n",
                            "      <td>0.148</td>\n",
                            "      <td>21.0</td>\n",
                            "      <td>0</td>\n",
                            "    </tr>\n",
                            "    <tr>\n",
                            "      <th>2</th>\n",
                            "      <td>2.0</td>\n",
                            "      <td>108.0</td>\n",
                            "      <td>64.0</td>\n",
                            "      <td>0.0</td>\n",
                            "      <td>64.0</td>\n",
                            "      <td>0.158</td>\n",
                            "      <td>21.0</td>\n",
                            "      <td>0</td>\n",
                            "    </tr>\n",
                            "    <tr>\n",
                            "      <th>3</th>\n",
                            "      <td>8.0</td>\n",
                            "      <td>107.0</td>\n",
                            "      <td>80.0</td>\n",
                            "      <td>0.0</td>\n",
                            "      <td>80.0</td>\n",
                            "      <td>0.856</td>\n",
                            "      <td>34.0</td>\n",
                            "      <td>0</td>\n",
                            "    </tr>\n",
                            "    <tr>\n",
                            "      <th>4</th>\n",
                            "      <td>7.0</td>\n",
                            "      <td>136.0</td>\n",
                            "      <td>90.0</td>\n",
                            "      <td>0.0</td>\n",
                            "      <td>90.0</td>\n",
                            "      <td>0.210</td>\n",
                            "      <td>50.0</td>\n",
                            "      <td>0</td>\n",
                            "    </tr>\n",
                            "  </tbody>\n",
                            "</table>\n",
                            "</div>"
                        ],
                        "text/plain": [
                            "   Pregnancies  Glucose  BloodPressure  Insulin   BMI  \\\n",
                            "0          6.0     98.0           58.0    190.0  58.0   \n",
                            "1          2.0    112.0           75.0      0.0  75.0   \n",
                            "2          2.0    108.0           64.0      0.0  64.0   \n",
                            "3          8.0    107.0           80.0      0.0  80.0   \n",
                            "4          7.0    136.0           90.0      0.0  90.0   \n",
                            "\n",
                            "   DiabetesPedigreeFunction   Age  Outcome  \n",
                            "0                     0.430  43.0        0  \n",
                            "1                     0.148  21.0        0  \n",
                            "2                     0.158  21.0        0  \n",
                            "3                     0.856  34.0        0  \n",
                            "4                     0.210  50.0        0  "
                        ]
                    },
                    "execution_count": 3,
                    "metadata": {},
                    "output_type": "execute_result"
                }
            ],
            "source": [
                "test_data.head()"
            ]
        },
        {
            "cell_type": "code",
            "execution_count": 4,
            "metadata": {},
            "outputs": [],
            "source": [
                "# We specify the X and the y for the model\n",
                "X_train = train_data.drop('Outcome', axis=1)\n",
                "y_train = train_data['Outcome']\n",
                "X_test = test_data.drop('Outcome', axis=1)\n",
                "y_test = test_data['Outcome']"
            ]
        },
        {
            "cell_type": "markdown",
            "metadata": {},
            "source": [
                "We will perform two filters, a wider randomized search and then a more concentrated grid search to aim to get the best results for our model."
            ]
        },
        {
            "cell_type": "code",
            "execution_count": 5,
            "metadata": {},
            "outputs": [],
            "source": [
                "# We define a wide parameter distribution for RandomizedSearchCV\n",
                "param_dist = {\n",
                "    'max_depth': randint(1, 20),\n",
                "    'learning_rate': uniform(0.01, 0.5),\n",
                "    'n_estimators': randint(50, 1000),\n",
                "    'min_child_weight': randint(1, 10),\n",
                "    'subsample': uniform(0.5, 0.5),\n",
                "    'colsample_bytree': uniform(0.5, 0.5),\n",
                "    'gamma': uniform(0, 5),\n",
                "    'reg_alpha': uniform(0, 10),\n",
                "    'reg_lambda': uniform(0, 10)\n",
                "}"
            ]
        },
        {
            "cell_type": "code",
            "execution_count": 6,
            "metadata": {},
            "outputs": [],
            "source": [
                "xgb = XGBClassifier(random_state=42)\n",
                "random_search = RandomizedSearchCV(xgb, param_distributions=param_dist, n_iter=100, cv=5, scoring='accuracy', n_jobs=-1, verbose=2, random_state=42)"
            ]
        },
        {
            "cell_type": "code",
            "execution_count": 7,
            "metadata": {},
            "outputs": [
                {
                    "name": "stdout",
                    "output_type": "stream",
                    "text": [
                        "Fitting 5 folds for each of 100 candidates, totalling 500 fits\n",
                        "RandomizedSearchCV took 9.31 seconds\n",
                        "----------------------------------------\n",
                        "Best RandomizedSearchCV parameters:\n",
                        "{'colsample_bytree': np.float64(0.9512764533397833), 'gamma': np.float64(2.5262618622392856), 'learning_rate': np.float64(0.4232287330538708), 'max_depth': 13, 'min_child_weight': 3, 'n_estimators': 226, 'reg_alpha': np.float64(0.534852967473689), 'reg_lambda': np.float64(9.585414968831984), 'subsample': np.float64(0.9235715720477948)}\n",
                        "Best RandomizedSearchCV accuracy: 0.7638\n"
                    ]
                }
            ],
            "source": [
                "start_time = time.time()\n",
                "random_search.fit(X_train, y_train)\n",
                "print(f\"RandomizedSearchCV took {time.time() - start_time:.2f} seconds\")\n",
                "print(\"-\"*40)\n",
                "print(\"Best RandomizedSearchCV parameters:\")\n",
                "print(random_search.best_params_)\n",
                "print(f\"Best RandomizedSearchCV accuracy: {random_search.best_score_:.4f}\")"
            ]
        },
        {
            "cell_type": "code",
            "execution_count": 8,
            "metadata": {},
            "outputs": [],
            "source": [
                "best_params = random_search.best_params_\n",
                "param_grid = {\n",
                "    'max_depth': [max(1, best_params['max_depth'] - 1), best_params['max_depth'], min(20, best_params['max_depth'] + 1)],\n",
                "    'learning_rate': [max(0.01, best_params['learning_rate'] - 0.01), best_params['learning_rate'], min(0.5, best_params['learning_rate'] + 0.01)],\n",
                "    'n_estimators': [max(50, best_params['n_estimators'] - 50), best_params['n_estimators'], min(1000, best_params['n_estimators'] + 50)],\n",
                "    'min_child_weight': [max(1, best_params['min_child_weight'] - 1), best_params['min_child_weight'], min(10, best_params['min_child_weight'] + 1)],\n",
                "    'subsample': [max(0.5, best_params['subsample'] - 0.1), best_params['subsample'], min(1, best_params['subsample'] + 0.1)],\n",
                "    'colsample_bytree': [max(0.5, best_params['colsample_bytree'] - 0.1), best_params['colsample_bytree'], min(1, best_params['colsample_bytree'] + 0.1)],\n",
                "    'gamma': [max(0, best_params['gamma'] - 0.1), best_params['gamma'], min(5, best_params['gamma'] + 0.1)],\n",
                "    'reg_alpha': [max(0, best_params['reg_alpha'] - 1), best_params['reg_alpha'], min(10, best_params['reg_alpha'] + 1)],\n",
                "    'reg_lambda': [max(0, best_params['reg_lambda'] - 1), best_params['reg_lambda'], min(10, best_params['reg_lambda'] + 1)]\n",
                "}"
            ]
        },
        {
            "cell_type": "code",
            "execution_count": 9,
            "metadata": {},
            "outputs": [
                {
                    "name": "stdout",
                    "output_type": "stream",
                    "text": [
                        "Fitting 5 folds for each of 19683 candidates, totalling 98415 fits\n",
                        "GridSearchCV took 514.53 seconds\n",
                        "\n",
                        "Best GridSearchCV parameters:\n",
                        "{'colsample_bytree': 1, 'gamma': np.float64(2.5262618622392856), 'learning_rate': np.float64(0.4132287330538708), 'max_depth': 12, 'min_child_weight': 3, 'n_estimators': 176, 'reg_alpha': np.float64(0.534852967473689), 'reg_lambda': np.float64(9.585414968831984), 'subsample': np.float64(0.8235715720477949)}\n",
                        "Best GridSearchCV accuracy: 0.7785\n"
                    ]
                }
            ],
            "source": [
                "grid_search = GridSearchCV(xgb, param_grid, cv=5, scoring='accuracy', n_jobs=-1, verbose=2)\n",
                "\n",
                "start_time = time.time()\n",
                "grid_search.fit(X_train, y_train)\n",
                "print(f\"GridSearchCV took {time.time() - start_time:.2f} seconds\")\n",
                "\n",
                "print(\"\\nBest GridSearchCV parameters:\")\n",
                "print(grid_search.best_params_)\n",
                "print(f\"Best GridSearchCV accuracy: {grid_search.best_score_:.4f}\")"
            ]
        },
        {
            "cell_type": "code",
            "execution_count": 10,
            "metadata": {},
            "outputs": [
                {
                    "name": "stdout",
                    "output_type": "stream",
                    "text": [
                        "\n",
                        "Final model training accuracy: 0.7964\n",
                        "Final model test accuracy: 0.7727\n"
                    ]
                }
            ],
            "source": [
                "# Final model evaluation\n",
                "best_model = grid_search.best_estimator_\n",
                "train_accuracy = best_model.score(X_train, y_train)\n",
                "test_accuracy = best_model.score(X_test, y_test)\n",
                "\n",
                "print(f\"\\nFinal model training accuracy: {train_accuracy:.4f}\")\n",
                "print(f\"Final model test accuracy: {test_accuracy:.4f}\")"
            ]
        },
        {
            "cell_type": "markdown",
            "metadata": {},
            "source": [
                "In this exercise we were asked to look for the best accuracy, we will proceed by generating the XGB classifier and perform a grid search."
            ]
        },
        {
            "cell_type": "code",
            "execution_count": 22,
            "metadata": {},
            "outputs": [],
            "source": [
                "def specificity_score(y_true, y_pred):\n",
                "    tn, fp, fn, tp = confusion_matrix(y_true, y_pred).ravel()\n",
                "    return tn / (tn + fp)"
            ]
        },
        {
            "cell_type": "code",
            "execution_count": 23,
            "metadata": {},
            "outputs": [],
            "source": [
                "def get_metrics(y_train, y_test, y_pred_train, y_pred_test):\n",
                "    # Calcular métricas para el conjunto de entrenamiento\n",
                "    train_accuracy = accuracy_score(y_train, y_pred_train)\n",
                "    train_f1 = f1_score(y_train, y_pred_train)\n",
                "    train_auc = roc_auc_score(y_train, y_pred_train)\n",
                "    train_precision = precision_score(y_train, y_pred_train)\n",
                "    train_recall = recall_score(y_train, y_pred_train)\n",
                "    train_specificity = specificity_score(y_train, y_pred_train)\n",
                "\n",
                "    # Calcular métricas para el conjunto de prueba\n",
                "    test_accuracy = accuracy_score(y_test, y_pred_test)\n",
                "    test_f1 = f1_score(y_test, y_pred_test)\n",
                "    test_auc = roc_auc_score(y_test, y_pred_test)\n",
                "    test_precision = precision_score(y_test, y_pred_test)\n",
                "    test_recall = recall_score(y_test, y_pred_test)\n",
                "    test_specificity = specificity_score(y_test, y_pred_test)\n",
                "\n",
                "    # Calcular la diferencia entre métricas de entrenamiento y prueba\n",
                "    diff_accuracy = train_accuracy - test_accuracy\n",
                "    diff_f1 = train_f1 - test_f1\n",
                "    diff_auc = train_auc - test_auc\n",
                "    diff_precision = train_precision - test_precision\n",
                "    diff_recall = train_recall - test_recall\n",
                "    diff_specificity = train_specificity - test_specificity\n",
                "\n",
                "    # Crear un DataFrame con los resultados\n",
                "    metrics_df = pd.DataFrame([[train_accuracy, train_f1, train_auc, train_precision, train_recall, train_specificity],[test_accuracy, test_f1, test_auc, test_precision, test_recall, test_specificity],[diff_accuracy, diff_f1, diff_auc, diff_precision, diff_recall, diff_specificity]],\n",
                "                              columns = ['Accuracy', 'F1', 'AUC', 'Precision', 'Recall', 'Specificity'],\n",
                "                              index = ['Train','Test', 'Diferencia'])\n",
                "\n",
                "    return metrics_df"
            ]
        },
        {
            "cell_type": "code",
            "execution_count": 24,
            "metadata": {},
            "outputs": [],
            "source": [
                "test_pred = best_model.predict(X_test)\n",
                "train_pred = best_model.predict(X_train)"
            ]
        },
        {
            "cell_type": "code",
            "execution_count": 25,
            "metadata": {},
            "outputs": [
                {
                    "data": {
                        "text/html": [
                            "<div>\n",
                            "<style scoped>\n",
                            "    .dataframe tbody tr th:only-of-type {\n",
                            "        vertical-align: middle;\n",
                            "    }\n",
                            "\n",
                            "    .dataframe tbody tr th {\n",
                            "        vertical-align: top;\n",
                            "    }\n",
                            "\n",
                            "    .dataframe thead th {\n",
                            "        text-align: right;\n",
                            "    }\n",
                            "</style>\n",
                            "<table border=\"1\" class=\"dataframe\">\n",
                            "  <thead>\n",
                            "    <tr style=\"text-align: right;\">\n",
                            "      <th></th>\n",
                            "      <th>Accuracy</th>\n",
                            "      <th>F1</th>\n",
                            "      <th>AUC</th>\n",
                            "      <th>Precision</th>\n",
                            "      <th>Recall</th>\n",
                            "      <th>Specificity</th>\n",
                            "    </tr>\n",
                            "  </thead>\n",
                            "  <tbody>\n",
                            "    <tr>\n",
                            "      <th>Train</th>\n",
                            "      <td>0.796417</td>\n",
                            "      <td>0.680307</td>\n",
                            "      <td>0.756097</td>\n",
                            "      <td>0.747191</td>\n",
                            "      <td>0.624413</td>\n",
                            "      <td>0.887781</td>\n",
                            "    </tr>\n",
                            "    <tr>\n",
                            "      <th>Test</th>\n",
                            "      <td>0.772727</td>\n",
                            "      <td>0.666667</td>\n",
                            "      <td>0.742424</td>\n",
                            "      <td>0.700000</td>\n",
                            "      <td>0.636364</td>\n",
                            "      <td>0.848485</td>\n",
                            "    </tr>\n",
                            "    <tr>\n",
                            "      <th>Diferencia</th>\n",
                            "      <td>0.023690</td>\n",
                            "      <td>0.013640</td>\n",
                            "      <td>0.013673</td>\n",
                            "      <td>0.047191</td>\n",
                            "      <td>-0.011950</td>\n",
                            "      <td>0.039296</td>\n",
                            "    </tr>\n",
                            "  </tbody>\n",
                            "</table>\n",
                            "</div>"
                        ],
                        "text/plain": [
                            "            Accuracy        F1       AUC  Precision    Recall  Specificity\n",
                            "Train       0.796417  0.680307  0.756097   0.747191  0.624413     0.887781\n",
                            "Test        0.772727  0.666667  0.742424   0.700000  0.636364     0.848485\n",
                            "Diferencia  0.023690  0.013640  0.013673   0.047191 -0.011950     0.039296"
                        ]
                    },
                    "execution_count": 25,
                    "metadata": {},
                    "output_type": "execute_result"
                }
            ],
            "source": [
                "get_metrics(y_train, y_test, train_pred, test_pred)"
            ]
        },
        {
            "cell_type": "markdown",
            "metadata": {},
            "source": [
                "We will proceed by saving the model"
            ]
        },
        {
            "cell_type": "code",
            "execution_count": 28,
            "metadata": {},
            "outputs": [
                {
                    "data": {
                        "text/plain": [
                            "['..\\\\models\\\\xgboost_model.joblib']"
                        ]
                    },
                    "execution_count": 28,
                    "metadata": {},
                    "output_type": "execute_result"
                }
            ],
            "source": [
                "models_dir = os.path.join('..', 'models')\n",
                "\n",
                "model_path = os.path.join(models_dir, 'xgboost_model.joblib')\n",
                "\n",
                "\n",
                "joblib.dump(best_model, model_path)"
            ]
        }
    ],
    "metadata": {
        "kernelspec": {
            "display_name": "Python 3.8.13 64-bit ('3.8.13')",
            "language": "python",
            "name": "python3"
        },
        "language_info": {
            "codemirror_mode": {
                "name": "ipython",
                "version": 3
            },
            "file_extension": ".py",
            "mimetype": "text/x-python",
            "name": "python",
            "nbconvert_exporter": "python",
            "pygments_lexer": "ipython3",
            "version": "3.11.2"
        },
        "orig_nbformat": 4,
        "vscode": {
            "interpreter": {
                "hash": "110cc1dee26208153f2972f08a2ad52b6a56238dc66d48e87fb757ef2996db56"
            }
        }
    },
    "nbformat": 4,
    "nbformat_minor": 2
}
